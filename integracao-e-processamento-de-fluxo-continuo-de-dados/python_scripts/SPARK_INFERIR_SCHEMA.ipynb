{
  "cells": [
    {
      "cell_type": "markdown",
      "metadata": {
        "id": "bDLCRmNdAl0Y"
      },
      "source": [
        "### CONFIGURAÇÃO/INSTALAÇÃO DO AMBIENTE"
      ]
    },
    {
      "cell_type": "code",
      "execution_count": null,
      "metadata": {
        "colab": {
          "base_uri": "https://localhost:8080/"
        },
        "id": "FKOAT_2-AduR",
        "outputId": "f9e11af3-a195-42fb-b716-73ee2cf815dd"
      },
      "outputs": [
        {
          "name": "stdout",
          "output_type": "stream",
          "text": [
            "Looking in indexes: https://pypi.org/simple, https://us-python.pkg.dev/colab-wheels/public/simple/\n",
            "Collecting pyspark\n",
            "  Downloading pyspark-3.3.1.tar.gz (281.4 MB)\n",
            "\u001b[K     |████████████████████████████████| 281.4 MB 38 kB/s \n",
            "\u001b[?25hCollecting py4j==0.10.9.5\n",
            "  Downloading py4j-0.10.9.5-py2.py3-none-any.whl (199 kB)\n",
            "\u001b[K     |████████████████████████████████| 199 kB 53.4 MB/s \n",
            "\u001b[?25hBuilding wheels for collected packages: pyspark\n",
            "  Building wheel for pyspark (setup.py) ... \u001b[?25l\u001b[?25hdone\n",
            "  Created wheel for pyspark: filename=pyspark-3.3.1-py2.py3-none-any.whl size=281845514 sha256=c55fc684480c0eb50562311b1678d86627dee7dd90fa46981e7bb362dd89c0fb\n",
            "  Stored in directory: /root/.cache/pip/wheels/42/59/f5/79a5bf931714dcd201b26025347785f087370a10a3329a899c\n",
            "Successfully built pyspark\n",
            "Installing collected packages: py4j, pyspark\n",
            "Successfully installed py4j-0.10.9.5 pyspark-3.3.1\n"
          ]
        }
      ],
      "source": [
        "pip install pyspark"
      ]
    },
    {
      "cell_type": "code",
      "execution_count": null,
      "metadata": {
        "id": "sT8qm4gQBcl5"
      },
      "outputs": [],
      "source": [
        "from pyspark.sql import SQLContext, SparkSession, functions as F\n",
        "from pyspark.sql.types import *"
      ]
    },
    {
      "cell_type": "code",
      "execution_count": null,
      "metadata": {
        "colab": {
          "base_uri": "https://localhost:8080/"
        },
        "id": "tNmWx_ZNApT-",
        "outputId": "0e3bc856-cb2a-4cd7-882a-e20bd266b4d7"
      },
      "outputs": [
        {
          "name": "stderr",
          "output_type": "stream",
          "text": [
            "/usr/local/lib/python3.7/dist-packages/pyspark/sql/context.py:114: FutureWarning: Deprecated in 3.0.0. Use SparkSession.builder.getOrCreate() instead.\n",
            "  FutureWarning,\n"
          ]
        }
      ],
      "source": [
        "spark = SparkSession.builder.appName('Exemplo_Inferencia_Schema').getOrCreate()\n",
        "sql = SQLContext(spark)"
      ]
    },
    {
      "cell_type": "markdown",
      "metadata": {
        "id": "favMWve7AucQ"
      },
      "source": [
        "#### O ARQUIVO A SEGUIR FOI CARREGADO NO NOTEBOOK ATRAVÉS DO MÉTODO DE UPLOAD NO GOOGLE COLAB. É O MESMO ARQUIVO DISPONIBILIZADO NO CANVAS (dados_exames.csv)"
      ]
    },
    {
      "cell_type": "code",
      "execution_count": null,
      "metadata": {
        "id": "krAbN5N1BIQB"
      },
      "outputs": [],
      "source": [
        "arquivo = 'DADOS_EXAMES.csv'"
      ]
    },
    {
      "cell_type": "code",
      "execution_count": null,
      "metadata": {
        "id": "Xipnomt8At0e"
      },
      "outputs": [],
      "source": [
        "df_exames = spark.read.format('csv').options(inferSchema=True, header=True, delimiter=';').load(arquivo)"
      ]
    },
    {
      "cell_type": "markdown",
      "metadata": {
        "id": "RxpFmcTXHutn"
      },
      "source": [
        "#### EXIBINDO UMA AMOSTRA DOS DADOS"
      ]
    },
    {
      "cell_type": "code",
      "execution_count": null,
      "metadata": {
        "colab": {
          "base_uri": "https://localhost:8080/"
        },
        "id": "DbvN3z3VGocb",
        "outputId": "18b4c5cf-b4a4-4566-db31-d1f896d415b2"
      },
      "outputs": [
        {
          "name": "stdout",
          "output_type": "stream",
          "text": [
            "+--------------------+--------------+------+------------+-------+--------------------+----------+--------+--------------------+----------+-------------------+---------+-------------------+----------------------------+----------------------+\n",
            "|IdUnidadeAtendimento|        Cidade|Estado|   NumPedido|IdExame|               Exame|SiglaExame|Material|          SetorExame|PrecoExame|         DataPedido|QtdExames|QtdAmostrasColhidas|DataPrevistaEntregaResultado|DataLiberacaoResultado|\n",
            "+--------------------+--------------+------+------------+-------+--------------------+----------+--------+--------------------+----------+-------------------+---------+-------------------+----------------------------+----------------------+\n",
            "|                   0|BELO HORIZONTE|    MG|PED-05738304|   6986|  TSH ULTRA SENSÍVEL|     TSH-B|  SANGUE|            HORMONIO|      8,35|2022-06-03 07:58:00|        1|                  0|         2022-06-04 16:00:00|   2022-06-03 18:32:07|\n",
            "|                   0|BELO HORIZONTE|    MG|PED-05746056|   8397|             GAMA GT|       YGT|  SANGUE|BIOQUIMICA ESPECI...|      6,96|2022-06-03 08:07:00|        1|                  0|         2022-06-04 16:00:00|   2022-06-03 16:05:56|\n",
            "|                   0|BELO HORIZONTE|    MG|PED-05752896|   3376|HIV 1 E 2 PESQUIS...|    HIV-EL|  SANGUE|          IMUNOLOGIA|     13,91|2022-06-03 08:13:00|        1|                  1|         2022-06-04 16:00:00|   2022-06-03 16:38:30|\n",
            "|                   0|BELO HORIZONTE|    MG|PED-05757912|   2142|COLESTEROL TOTAL ...|      ELFC|  SANGUE|BIOQUIMICA ESPECI...|     23,65|2022-06-03 08:19:00|        1|                  1|         2022-06-04 16:00:00|   2022-06-03 14:36:31|\n",
            "|                   0|BELO HORIZONTE|    MG|PED-05763384|   3272|ESTUDO GENÉTICO D...|    HEMOCR|DIVERSOS|         GEN. HUMANA|    300,55|2022-06-03 08:28:00|        2|                  2|         2022-06-15 16:00:00|   2022-06-06 15:42:11|\n",
            "+--------------------+--------------+------+------------+-------+--------------------+----------+--------+--------------------+----------+-------------------+---------+-------------------+----------------------------+----------------------+\n",
            "only showing top 5 rows\n",
            "\n"
          ]
        }
      ],
      "source": [
        "df_exames.show(n=5)"
      ]
    },
    {
      "cell_type": "markdown",
      "metadata": {
        "id": "QuiPkzgzBjgx"
      },
      "source": [
        "#### IMPRIMINDO SCHEMA DOS DADOS COM A OPÇÃO **inferSchema = True** HABILITADA"
      ]
    },
    {
      "cell_type": "code",
      "execution_count": null,
      "metadata": {
        "colab": {
          "base_uri": "https://localhost:8080/"
        },
        "id": "rbZzX8tpBi_E",
        "outputId": "c914451d-bcb3-4f97-d4fe-b8c2c1c9edce"
      },
      "outputs": [
        {
          "name": "stdout",
          "output_type": "stream",
          "text": [
            "root\n",
            " |-- IdUnidadeAtendimento: integer (nullable = true)\n",
            " |-- Cidade: string (nullable = true)\n",
            " |-- Estado: string (nullable = true)\n",
            " |-- NumPedido: string (nullable = true)\n",
            " |-- IdExame: integer (nullable = true)\n",
            " |-- Exame: string (nullable = true)\n",
            " |-- SiglaExame: string (nullable = true)\n",
            " |-- Material: string (nullable = true)\n",
            " |-- SetorExame: string (nullable = true)\n",
            " |-- PrecoExame: string (nullable = true)\n",
            " |-- DataPedido: timestamp (nullable = true)\n",
            " |-- QtdExames: integer (nullable = true)\n",
            " |-- QtdAmostrasColhidas: integer (nullable = true)\n",
            " |-- DataPrevistaEntregaResultado: timestamp (nullable = true)\n",
            " |-- DataLiberacaoResultado: string (nullable = true)\n",
            "\n"
          ]
        }
      ],
      "source": [
        "df_exames.printSchema()"
      ]
    },
    {
      "cell_type": "markdown",
      "metadata": {
        "id": "bb2hYuQdLMz-"
      },
      "source": [
        "# Exercício II - Mecanismos de Inferência de Tipagem"
      ]
    },
    {
      "cell_type": "markdown",
      "metadata": {
        "id": "295Gh1NTOe7k"
      },
      "source": [
        "### olist_orders_dataset.csv"
      ]
    },
    {
      "cell_type": "code",
      "execution_count": null,
      "metadata": {
        "colab": {
          "base_uri": "https://localhost:8080/"
        },
        "id": "Ph09nW7bLaHX",
        "outputId": "68da7480-3134-442b-cbfe-558ecac396de"
      },
      "outputs": [
        {
          "name": "stdout",
          "output_type": "stream",
          "text": [
            "+--------------------+--------------------+------------+------------------------+-------------------+----------------------------+-----------------------------+-----------------------------+\n",
            "|            order_id|         customer_id|order_status|order_purchase_timestamp|  order_approved_at|order_delivered_carrier_date|order_delivered_customer_date|order_estimated_delivery_date|\n",
            "+--------------------+--------------------+------------+------------------------+-------------------+----------------------------+-----------------------------+-----------------------------+\n",
            "|e481f51cbdc54678b...|9ef432eb625129730...|   delivered|     2017-10-02 10:56:33|2017-10-02 11:07:15|         2017-10-04 19:55:00|          2017-10-10 21:25:13|          2017-10-18 00:00:00|\n",
            "|53cdb2fc8bc7dce0b...|b0830fb4747a6c6d2...|   delivered|     2018-07-24 20:41:37|2018-07-26 03:24:27|         2018-07-26 14:31:00|          2018-08-07 15:27:45|          2018-08-13 00:00:00|\n",
            "|47770eb9100c2d0c4...|41ce2a54c0b03bf34...|   delivered|     2018-08-08 08:38:49|2018-08-08 08:55:23|         2018-08-08 13:50:00|          2018-08-17 18:06:29|          2018-09-04 00:00:00|\n",
            "|949d5b44dbf5de918...|f88197465ea7920ad...|   delivered|     2017-11-18 19:28:06|2017-11-18 19:45:59|         2017-11-22 13:39:59|          2017-12-02 00:28:42|          2017-12-15 00:00:00|\n",
            "|ad21c59c0840e6cb8...|8ab97904e6daea886...|   delivered|     2018-02-13 21:18:39|2018-02-13 22:20:29|         2018-02-14 19:46:34|          2018-02-16 18:17:02|          2018-02-26 00:00:00|\n",
            "+--------------------+--------------------+------------+------------------------+-------------------+----------------------------+-----------------------------+-----------------------------+\n",
            "only showing top 5 rows\n",
            "\n"
          ]
        }
      ],
      "source": [
        "df_olist_orders_dataset = spark.read.format('csv').options(inferSchema=True, header=True, delimiter=',').load('olist_orders_dataset.csv')\n",
        "df_olist_orders_dataset.show(n=5)"
      ]
    },
    {
      "cell_type": "code",
      "execution_count": null,
      "metadata": {
        "colab": {
          "base_uri": "https://localhost:8080/"
        },
        "id": "Pz2GkiQTL7GH",
        "outputId": "861a5143-f121-449b-e2df-7b0b5e6fe304"
      },
      "outputs": [
        {
          "name": "stdout",
          "output_type": "stream",
          "text": [
            "root\n",
            " |-- order_id: string (nullable = true)\n",
            " |-- customer_id: string (nullable = true)\n",
            " |-- order_status: string (nullable = true)\n",
            " |-- order_purchase_timestamp: timestamp (nullable = true)\n",
            " |-- order_approved_at: timestamp (nullable = true)\n",
            " |-- order_delivered_carrier_date: timestamp (nullable = true)\n",
            " |-- order_delivered_customer_date: timestamp (nullable = true)\n",
            " |-- order_estimated_delivery_date: timestamp (nullable = true)\n",
            "\n"
          ]
        }
      ],
      "source": [
        "df_olist_orders_dataset.printSchema()"
      ]
    },
    {
      "cell_type": "markdown",
      "metadata": {
        "id": "wMoINqOQOnTj"
      },
      "source": [
        "### olist_order_reviews_dataset.csv\n"
      ]
    },
    {
      "cell_type": "code",
      "execution_count": null,
      "metadata": {
        "colab": {
          "base_uri": "https://localhost:8080/"
        },
        "id": "5Y5Z5t9yMBQG",
        "outputId": "05bfab0f-4132-45e7-dea9-5becfa91c1d2"
      },
      "outputs": [
        {
          "name": "stdout",
          "output_type": "stream",
          "text": [
            "+--------------------+--------------------+------------+--------------------+----------------------+--------------------+-----------------------+\n",
            "|           review_id|            order_id|review_score|review_comment_title|review_comment_message|review_creation_date|review_answer_timestamp|\n",
            "+--------------------+--------------------+------------+--------------------+----------------------+--------------------+-----------------------+\n",
            "|7bc2406110b926393...|73fc7af87114b3971...|           4|                null|                  null| 2018-01-18 00:00:00|    2018-01-18 21:46:59|\n",
            "|80e641a11e56f04c1...|a548910a1c6147796...|           5|                null|                  null| 2018-03-10 00:00:00|    2018-03-11 03:05:13|\n",
            "|228ce5500dc1d8e02...|f9e4b658b201a9f2e...|           5|                null|                  null| 2018-02-17 00:00:00|    2018-02-18 14:36:24|\n",
            "|e64fb393e7b32834b...|658677c97b385a9be...|           5|                null|  Recebi bem antes ...| 2017-04-21 00:00:00|    2017-04-21 22:02:06|\n",
            "|f7c4243c7fe1938f1...|8e6bfb81e283fa7e4...|           5|                null|  Parabéns lojas la...| 2018-03-01 00:00:00|    2018-03-02 10:26:53|\n",
            "+--------------------+--------------------+------------+--------------------+----------------------+--------------------+-----------------------+\n",
            "only showing top 5 rows\n",
            "\n"
          ]
        }
      ],
      "source": [
        "df_olist_order_reviews_dataset = spark.read.format('csv').options(inferSchema=True, header=True, delimiter=',').load('olist_order_reviews_dataset.csv')\n",
        "df_olist_order_reviews_dataset.show(n=5)"
      ]
    },
    {
      "cell_type": "code",
      "execution_count": null,
      "metadata": {
        "colab": {
          "base_uri": "https://localhost:8080/"
        },
        "id": "FEK8PTDiMRne",
        "outputId": "ccd9b94a-dc3a-4020-fed6-179d4f096b3b"
      },
      "outputs": [
        {
          "name": "stdout",
          "output_type": "stream",
          "text": [
            "root\n",
            " |-- review_id: string (nullable = true)\n",
            " |-- order_id: string (nullable = true)\n",
            " |-- review_score: string (nullable = true)\n",
            " |-- review_comment_title: string (nullable = true)\n",
            " |-- review_comment_message: string (nullable = true)\n",
            " |-- review_creation_date: string (nullable = true)\n",
            " |-- review_answer_timestamp: string (nullable = true)\n",
            "\n"
          ]
        }
      ],
      "source": [
        "df_olist_order_reviews_dataset.printSchema()"
      ]
    },
    {
      "cell_type": "code",
      "execution_count": null,
      "metadata": {
        "colab": {
          "base_uri": "https://localhost:8080/"
        },
        "id": "HUyYGamfO4_Z",
        "outputId": "221f4f46-db0e-4654-a6bc-d2a38a33ebee"
      },
      "outputs": [
        {
          "name": "stdout",
          "output_type": "stream",
          "text": [
            "+--------------------+--------------------+------------+--------------------+----------------------+--------------------+-----------------------+\n",
            "|           review_id|            order_id|review_score|review_comment_title|review_comment_message|review_creation_date|review_answer_timestamp|\n",
            "+--------------------+--------------------+------------+--------------------+----------------------+--------------------+-----------------------+\n",
            "|7bc2406110b926393...|73fc7af87114b3971...|           4|                null|                  null| 2018-01-18 00:00:00|    2018-01-18 21:46:59|\n",
            "|80e641a11e56f04c1...|a548910a1c6147796...|           5|                null|                  null| 2018-03-10 00:00:00|    2018-03-11 03:05:13|\n",
            "|228ce5500dc1d8e02...|f9e4b658b201a9f2e...|           5|                null|                  null| 2018-02-17 00:00:00|    2018-02-18 14:36:24|\n",
            "|e64fb393e7b32834b...|658677c97b385a9be...|           5|                null|  Recebi bem antes ...| 2017-04-21 00:00:00|    2017-04-21 22:02:06|\n",
            "|f7c4243c7fe1938f1...|8e6bfb81e283fa7e4...|           5|                null|  Parabéns lojas la...| 2018-03-01 00:00:00|    2018-03-02 10:26:53|\n",
            "+--------------------+--------------------+------------+--------------------+----------------------+--------------------+-----------------------+\n",
            "only showing top 5 rows\n",
            "\n"
          ]
        }
      ],
      "source": [
        "#---------- Change columns types ----------\n",
        "df_olist_order_reviews_dataset = df_olist_order_reviews_dataset.withColumn('review_score', df_olist_order_reviews_dataset['review_score'].cast('smallint'))\n",
        "df_olist_order_reviews_dataset = df_olist_order_reviews_dataset.withColumn('review_creation_date', df_olist_order_reviews_dataset['review_creation_date'].cast('timestamp'))\n",
        "df_olist_order_reviews_dataset = df_olist_order_reviews_dataset.withColumn('review_answer_timestamp', df_olist_order_reviews_dataset['review_answer_timestamp'].cast('timestamp'))\n",
        "df_olist_order_reviews_dataset.show(n=5)"
      ]
    },
    {
      "cell_type": "code",
      "execution_count": null,
      "metadata": {
        "colab": {
          "base_uri": "https://localhost:8080/"
        },
        "id": "PTBMOOhPSYjR",
        "outputId": "ba52a66b-9f4f-401a-c1b7-7490f77f9d81"
      },
      "outputs": [
        {
          "name": "stdout",
          "output_type": "stream",
          "text": [
            "root\n",
            " |-- review_id: string (nullable = true)\n",
            " |-- order_id: string (nullable = true)\n",
            " |-- review_score: short (nullable = true)\n",
            " |-- review_comment_title: string (nullable = true)\n",
            " |-- review_comment_message: string (nullable = true)\n",
            " |-- review_creation_date: timestamp (nullable = true)\n",
            " |-- review_answer_timestamp: timestamp (nullable = true)\n",
            "\n"
          ]
        }
      ],
      "source": [
        "df_olist_order_reviews_dataset.printSchema()"
      ]
    },
    {
      "cell_type": "markdown",
      "metadata": {
        "id": "5uC_xvmiOxO7"
      },
      "source": [
        "### olist_customers_dataset.csv"
      ]
    },
    {
      "cell_type": "code",
      "execution_count": null,
      "metadata": {
        "colab": {
          "base_uri": "https://localhost:8080/"
        },
        "id": "iJdv3xv-MXC1",
        "outputId": "8d0f9945-f6c7-4914-a11a-7bf513e9b236"
      },
      "outputs": [
        {
          "name": "stdout",
          "output_type": "stream",
          "text": [
            "+--------------------+--------------------+------------------------+--------------------+--------------+\n",
            "|         customer_id|  customer_unique_id|customer_zip_code_prefix|       customer_city|customer_state|\n",
            "+--------------------+--------------------+------------------------+--------------------+--------------+\n",
            "|06b8999e2fba1a1fb...|861eff4711a542e4b...|                   14409|              franca|            SP|\n",
            "|18955e83d337fd6b2...|290c77bc529b7ac93...|                   09790|sao bernardo do c...|            SP|\n",
            "|4e7b3e00288586ebd...|060e732b5b29e8181...|                   01151|           sao paulo|            SP|\n",
            "|b2b6027bc5c5109e5...|259dac757896d24d7...|                   08775|     mogi das cruzes|            SP|\n",
            "|4f2d8ab171c80ec83...|345ecd01c38d18a90...|                   13056|            campinas|            SP|\n",
            "+--------------------+--------------------+------------------------+--------------------+--------------+\n",
            "only showing top 5 rows\n",
            "\n"
          ]
        }
      ],
      "source": [
        "df_olist_customers_dataset = spark.read.format('csv').options(inferSchema=False, header=True, delimiter=',').load('olist_customers_dataset.csv')\n",
        "df_olist_customers_dataset.show(n=5)"
      ]
    },
    {
      "cell_type": "code",
      "execution_count": null,
      "metadata": {
        "colab": {
          "base_uri": "https://localhost:8080/"
        },
        "id": "hwtb_MTAMjlP",
        "outputId": "64f16768-6f83-4d22-c485-14dd4b2c7d53"
      },
      "outputs": [
        {
          "name": "stdout",
          "output_type": "stream",
          "text": [
            "root\n",
            " |-- customer_id: string (nullable = true)\n",
            " |-- customer_unique_id: string (nullable = true)\n",
            " |-- customer_zip_code_prefix: string (nullable = true)\n",
            " |-- customer_city: string (nullable = true)\n",
            " |-- customer_state: string (nullable = true)\n",
            "\n"
          ]
        }
      ],
      "source": [
        "df_olist_customers_dataset.printSchema()"
      ]
    }
  ],
  "metadata": {
    "colab": {
      "provenance": []
    },
    "kernelspec": {
      "display_name": "Python 3.8.10 64-bit",
      "language": "python",
      "name": "python3"
    },
    "language_info": {
      "name": "python",
      "version": "3.8.10"
    },
    "vscode": {
      "interpreter": {
        "hash": "916dbcbb3f70747c44a77c7bcd40155683ae19c65e1c03b4aa3499c5328201f1"
      }
    }
  },
  "nbformat": 4,
  "nbformat_minor": 0
}
