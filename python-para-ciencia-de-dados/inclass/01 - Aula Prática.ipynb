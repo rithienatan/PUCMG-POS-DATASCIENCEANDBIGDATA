{
 "cells": [
  {
   "cell_type": "markdown",
   "metadata": {},
   "source": [
    "# PUC Minas\n",
    "## Pós-Graduação em Ciência de Dados: Saúde e IA\n",
    "### Aula Prática 1: Conceitos, Comandos, Funções e Operações Básicas"
   ]
  },
  {
   "cell_type": "markdown",
   "metadata": {},
   "source": [
    "#### 1. Impressão de valores"
   ]
  },
  {
   "cell_type": "code",
   "execution_count": 4,
   "metadata": {},
   "outputs": [
    {
     "name": "stdout",
     "output_type": "stream",
     "text": [
      "15\n",
      "15\n",
      "15.5\n",
      "15.5\n",
      "Hello World\n",
      "H\n",
      "True\n",
      "False\n"
     ]
    }
   ],
   "source": [
    "print(15)\n",
    "print(\"15\")\n",
    "print(15.5)\n",
    "print(\"15.5\")\n",
    "print(\"Hello World\")\n",
    "print(\"H\")\n",
    "print(True)\n",
    "print(False)"
   ]
  },
  {
   "cell_type": "markdown",
   "metadata": {},
   "source": [
    "#### 2. Criando variáveis"
   ]
  },
  {
   "cell_type": "code",
   "execution_count": 5,
   "metadata": {},
   "outputs": [
    {
     "name": "stdout",
     "output_type": "stream",
     "text": [
      "25\n"
     ]
    },
    {
     "data": {
      "text/plain": [
       "int"
      ]
     },
     "execution_count": 5,
     "metadata": {},
     "output_type": "execute_result"
    }
   ],
   "source": [
    "# Númerica inteira\n",
    "num_int = 25\n",
    "print(num_int)\n",
    "type(num_int)"
   ]
  },
  {
   "cell_type": "code",
   "execution_count": 6,
   "metadata": {},
   "outputs": [
    {
     "name": "stdout",
     "output_type": "stream",
     "text": [
      "25.25\n"
     ]
    },
    {
     "data": {
      "text/plain": [
       "float"
      ]
     },
     "execution_count": 6,
     "metadata": {},
     "output_type": "execute_result"
    }
   ],
   "source": [
    "# Numérica Decimal\n",
    "num_float = 25.25\n",
    "print(num_float)\n",
    "type(num_float)"
   ]
  },
  {
   "cell_type": "code",
   "execution_count": 7,
   "metadata": {},
   "outputs": [
    {
     "name": "stdout",
     "output_type": "stream",
     "text": [
      "Hello World\n"
     ]
    },
    {
     "data": {
      "text/plain": [
       "str"
      ]
     },
     "execution_count": 7,
     "metadata": {},
     "output_type": "execute_result"
    }
   ],
   "source": [
    "# String\n",
    "var_string = \"Hello World\"\n",
    "print(var_string)\n",
    "type(var_string)"
   ]
  },
  {
   "cell_type": "markdown",
   "metadata": {},
   "source": [
    "#### 3. Operações Aritméticas"
   ]
  },
  {
   "cell_type": "code",
   "execution_count": 23,
   "metadata": {},
   "outputs": [],
   "source": [
    "num1 = int(input(\"Insira a sua idade em anos: \"))\n",
    "num2 = int(input(\"Insira a idade de outra pessoa: \"))"
   ]
  },
  {
   "cell_type": "code",
   "execution_count": 24,
   "metadata": {},
   "outputs": [
    {
     "name": "stdout",
     "output_type": "stream",
     "text": [
      "15\n"
     ]
    }
   ],
   "source": [
    "# Soma\n",
    "print(num1 + num2)"
   ]
  },
  {
   "cell_type": "code",
   "execution_count": 25,
   "metadata": {},
   "outputs": [
    {
     "name": "stdout",
     "output_type": "stream",
     "text": [
      "5\n"
     ]
    }
   ],
   "source": [
    "# Subtração\n",
    "print(num1 - num2)"
   ]
  },
  {
   "cell_type": "code",
   "execution_count": 26,
   "metadata": {},
   "outputs": [
    {
     "name": "stdout",
     "output_type": "stream",
     "text": [
      "50\n"
     ]
    }
   ],
   "source": [
    "# Multiplicação\n",
    "print(num1 * num2)"
   ]
  },
  {
   "cell_type": "code",
   "execution_count": 27,
   "metadata": {},
   "outputs": [
    {
     "name": "stdout",
     "output_type": "stream",
     "text": [
      "2.0\n"
     ]
    }
   ],
   "source": [
    "# Divisão\n",
    "print(num1 / num2)"
   ]
  },
  {
   "cell_type": "code",
   "execution_count": 30,
   "metadata": {},
   "outputs": [
    {
     "name": "stdout",
     "output_type": "stream",
     "text": [
      "2\n"
     ]
    }
   ],
   "source": [
    "# Parte inteira de divisão\n",
    "print(num1 // num2)"
   ]
  },
  {
   "cell_type": "code",
   "execution_count": 28,
   "metadata": {},
   "outputs": [
    {
     "name": "stdout",
     "output_type": "stream",
     "text": [
      "0\n"
     ]
    }
   ],
   "source": [
    "# Resto de divisão\n",
    "print(num1 % num2)"
   ]
  },
  {
   "cell_type": "code",
   "execution_count": 29,
   "metadata": {},
   "outputs": [
    {
     "name": "stdout",
     "output_type": "stream",
     "text": [
      "100000\n"
     ]
    }
   ],
   "source": [
    "# Potenciação\n",
    "print(num1 ** num2)"
   ]
  },
  {
   "cell_type": "markdown",
   "metadata": {},
   "source": [
    "#### 4. Trabalhando com strings"
   ]
  },
  {
   "cell_type": "code",
   "execution_count": 40,
   "metadata": {},
   "outputs": [],
   "source": [
    "nome = input(\"Digite seu nome completo: \")"
   ]
  },
  {
   "cell_type": "code",
   "execution_count": 41,
   "metadata": {},
   "outputs": [
    {
     "name": "stdout",
     "output_type": "stream",
     "text": [
      "n\n"
     ]
    }
   ],
   "source": [
    "# Acessando último caractere da string\n",
    "print(nome[-1])"
   ]
  },
  {
   "cell_type": "code",
   "execution_count": 42,
   "metadata": {},
   "outputs": [
    {
     "name": "stdout",
     "output_type": "stream",
     "text": [
      "t\n"
     ]
    }
   ],
   "source": [
    "# Acessando o terceiro caractere da string\n",
    "print(nome[2])"
   ]
  },
  {
   "cell_type": "code",
   "execution_count": 43,
   "metadata": {},
   "outputs": [
    {
     "name": "stdout",
     "output_type": "stream",
     "text": [
      "Rith\n"
     ]
    }
   ],
   "source": [
    "# Acessando os 4 primeiros caracteres da string\n",
    "print(nome[0:4])"
   ]
  },
  {
   "cell_type": "code",
   "execution_count": 44,
   "metadata": {},
   "outputs": [
    {
     "name": "stdout",
     "output_type": "stream",
     "text": [
      "12\n"
     ]
    }
   ],
   "source": [
    "# Descobrindo o tamanho da string\n",
    "print(len(nome))"
   ]
  },
  {
   "cell_type": "code",
   "execution_count": 50,
   "metadata": {},
   "outputs": [
    {
     "name": "stdout",
     "output_type": "stream",
     "text": [
      "Natan\n"
     ]
    }
   ],
   "source": [
    "# Separando seu sobrenome da string\n",
    "splitNome = nome.split()\n",
    "print(splitNome[1])"
   ]
  },
  {
   "cell_type": "code",
   "execution_count": 51,
   "metadata": {},
   "outputs": [
    {
     "name": "stdout",
     "output_type": "stream",
     "text": [
      "Rithie\n"
     ]
    }
   ],
   "source": [
    "# Acessando somente o seu primeiro nome\n",
    "print(splitNome[0])"
   ]
  },
  {
   "cell_type": "markdown",
   "metadata": {},
   "source": [
    "#### 5. Criando listas"
   ]
  },
  {
   "cell_type": "code",
   "execution_count": 52,
   "metadata": {},
   "outputs": [
    {
     "name": "stdout",
     "output_type": "stream",
     "text": [
      "['Rithie', 'Natan']\n"
     ]
    }
   ],
   "source": [
    "# Criando uma lista com seu nome e sobrenomes\n",
    "lista = list(splitNome)\n",
    "print(lista)"
   ]
  },
  {
   "cell_type": "code",
   "execution_count": 53,
   "metadata": {},
   "outputs": [
    {
     "name": "stdout",
     "output_type": "stream",
     "text": [
      "Rithie\n"
     ]
    }
   ],
   "source": [
    "# Acessando seu nome na lista\n",
    "print(lista[0])"
   ]
  },
  {
   "cell_type": "code",
   "execution_count": 54,
   "metadata": {},
   "outputs": [
    {
     "name": "stdout",
     "output_type": "stream",
     "text": [
      "['Rithie', 'Natan']\n"
     ]
    }
   ],
   "source": [
    "# Copiando a lista\n",
    "newLista = lista.copy()\n",
    "print(newLista)"
   ]
  },
  {
   "cell_type": "code",
   "execution_count": 56,
   "metadata": {},
   "outputs": [
    {
     "name": "stdout",
     "output_type": "stream",
     "text": [
      "['Rithie', 'Natan', 'Carvalhaes', 'Laranja']\n"
     ]
    }
   ],
   "source": [
    "# Adicionando elemento na nova lista\n",
    "newLista.append(\"Laranja\")\n",
    "print(newLista)"
   ]
  },
  {
   "cell_type": "code",
   "execution_count": 57,
   "metadata": {},
   "outputs": [
    {
     "name": "stdout",
     "output_type": "stream",
     "text": [
      "['Rithie', 'Natan', 'Carvalhaes', 'Maçã', 'Laranja']\n"
     ]
    }
   ],
   "source": [
    "# Adicionar elemento em qualquer posição da lista\n",
    "newLista.insert(3, \"Maçã\")\n",
    "print(newLista)"
   ]
  },
  {
   "cell_type": "code",
   "execution_count": 58,
   "metadata": {},
   "outputs": [
    {
     "name": "stdout",
     "output_type": "stream",
     "text": [
      "['Rithie', 'Natan', 'Carvalhaes', 'Maçã']\n"
     ]
    }
   ],
   "source": [
    "# Excluindo informação da lista\n",
    "newLista.remove(\"Laranja\")\n",
    "print(newLista)"
   ]
  },
  {
   "cell_type": "code",
   "execution_count": 59,
   "metadata": {},
   "outputs": [
    {
     "name": "stdout",
     "output_type": "stream",
     "text": [
      "4\n"
     ]
    }
   ],
   "source": [
    "# Descobrindo o tamanho da lista\n",
    "print(len(newLista))"
   ]
  },
  {
   "cell_type": "code",
   "execution_count": 60,
   "metadata": {},
   "outputs": [
    {
     "name": "stdout",
     "output_type": "stream",
     "text": [
      "['Carvalhaes', 'Maçã', 'Natan', 'Rithie']\n"
     ]
    }
   ],
   "source": [
    "# Ordenando a lista\n",
    "newLista.sort()\n",
    "print(newLista)"
   ]
  },
  {
   "cell_type": "code",
   "execution_count": 61,
   "metadata": {},
   "outputs": [
    {
     "name": "stdout",
     "output_type": "stream",
     "text": [
      "['Rithie', 'Natan', 'Maçã', 'Carvalhaes']\n"
     ]
    }
   ],
   "source": [
    "# Invertendo a lista\n",
    "newLista.sort(reverse=True)\n",
    "print(newLista)"
   ]
  },
  {
   "cell_type": "code",
   "execution_count": 62,
   "metadata": {},
   "outputs": [
    {
     "name": "stdout",
     "output_type": "stream",
     "text": [
      "['Rithie', 'Natan', 'Maçã', 'Carvalhaes', 'Rithie', 'Natan']\n"
     ]
    }
   ],
   "source": [
    "# Juntando listas\n",
    "newLista.extend(lista)\n",
    "print(newLista)"
   ]
  },
  {
   "cell_type": "code",
   "execution_count": 68,
   "metadata": {},
   "outputs": [
    {
     "name": "stdout",
     "output_type": "stream",
     "text": [
      "['Rithie', 'Natan', 'Maçã', 'Carvalhaes', 'Rithie', 'Natan']\n"
     ]
    }
   ],
   "source": [
    "# Replicando listas\n",
    "anotherList = newLista.copy()\n",
    "print(anotherList)"
   ]
  },
  {
   "cell_type": "code",
   "execution_count": 67,
   "metadata": {},
   "outputs": [
    {
     "name": "stdout",
     "output_type": "stream",
     "text": [
      "2\n"
     ]
    }
   ],
   "source": [
    "# Descobrindo o índice de um elemento na lista\n",
    "print(newLista.index(\"Maçã\"))"
   ]
  },
  {
   "cell_type": "code",
   "execution_count": 65,
   "metadata": {},
   "outputs": [
    {
     "name": "stdout",
     "output_type": "stream",
     "text": [
      "2\n"
     ]
    }
   ],
   "source": [
    "# Número de ocorrências de um elemento na lista\n",
    "print(newLista.count(\"Natan\"))"
   ]
  },
  {
   "cell_type": "markdown",
   "metadata": {},
   "source": [
    "#### 6. Listas de listas"
   ]
  },
  {
   "cell_type": "code",
   "execution_count": 64,
   "metadata": {},
   "outputs": [
    {
     "name": "stdout",
     "output_type": "stream",
     "text": [
      "[[1, 2, 3], ['A', 'B', 'C']]\n"
     ]
    }
   ],
   "source": [
    "listOflists = list((list((1, 2, 3)), list((\"A\", \"B\", \"C\"))))\n",
    "print(listOflists)"
   ]
  }
 ],
 "metadata": {
  "kernelspec": {
   "display_name": "Python 3.8.10 64-bit",
   "language": "python",
   "name": "python3"
  },
  "language_info": {
   "codemirror_mode": {
    "name": "ipython",
    "version": 3
   },
   "file_extension": ".py",
   "mimetype": "text/x-python",
   "name": "python",
   "nbconvert_exporter": "python",
   "pygments_lexer": "ipython3",
   "version": "3.8.10"
  },
  "orig_nbformat": 4,
  "vscode": {
   "interpreter": {
    "hash": "916dbcbb3f70747c44a77c7bcd40155683ae19c65e1c03b4aa3499c5328201f1"
   }
  }
 },
 "nbformat": 4,
 "nbformat_minor": 2
}
